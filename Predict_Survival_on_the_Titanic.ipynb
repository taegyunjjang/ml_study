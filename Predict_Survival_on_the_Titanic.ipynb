{
  "nbformat": 4,
  "nbformat_minor": 0,
  "metadata": {
    "colab": {
      "private_outputs": true,
      "provenance": [],
      "mount_file_id": "1Yk-kDR6oGQWJ7ZPMM4HNXNut6xJDZD78",
      "authorship_tag": "ABX9TyM4N4/pGW8uVgaQDDHREYZ3",
      "include_colab_link": true
    },
    "kernelspec": {
      "name": "python3",
      "display_name": "Python 3"
    },
    "language_info": {
      "name": "python"
    }
  },
  "cells": [
    {
      "cell_type": "markdown",
      "metadata": {
        "id": "view-in-github",
        "colab_type": "text"
      },
      "source": [
        "<a href=\"https://colab.research.google.com/github/taegyunjjang/ml_study/blob/main/Predict_Survival_on_the_Titanic.ipynb\" target=\"_parent\"><img src=\"https://colab.research.google.com/assets/colab-badge.svg\" alt=\"Open In Colab\"/></a>"
      ]
    },
    {
      "cell_type": "markdown",
      "source": [
        "# Titanic - Machine Learning from Disaster\n",
        "## Predict survival on the Titanic"
      ],
      "metadata": {
        "id": "Fc774lL_USIn"
      }
    },
    {
      "cell_type": "code",
      "execution_count": null,
      "metadata": {
        "id": "7C_OZRqj0-qK"
      },
      "outputs": [],
      "source": [
        "import pandas as pd\n",
        "import numpy as np\n",
        "import matplotlib.pyplot as plt\n",
        "%matplotlib inline\n",
        "import seaborn as sns\n",
        "\n",
        "sns.set(style='whitegrid')\n",
        "sns.set_palette('pastel')"
      ]
    },
    {
      "cell_type": "code",
      "source": [
        "train = pd.read_csv('/content/drive/MyDrive/machine_learning_data/train.csv')\n",
        "test = pd.read_csv('/content/drive/MyDrive/machine_learning_data/test.csv')"
      ],
      "metadata": {
        "id": "ecO_7n-P4tSD"
      },
      "execution_count": null,
      "outputs": []
    },
    {
      "cell_type": "markdown",
      "source": [
        "## 1. EDA\n",
        "\n"
      ],
      "metadata": {
        "id": "hiolB8p7VEV0"
      }
    },
    {
      "cell_type": "code",
      "source": [
        "train.head()"
      ],
      "metadata": {
        "id": "-NJMe3hM7CRK"
      },
      "execution_count": null,
      "outputs": []
    },
    {
      "cell_type": "code",
      "source": [
        "test.head()"
      ],
      "metadata": {
        "id": "oSjZvq757Rie"
      },
      "execution_count": null,
      "outputs": []
    },
    {
      "cell_type": "markdown",
      "source": [
        "1-1. Data Dictionary\n",
        "- PassengerId\n",
        "- Survived : 0=No, 1=Yes\n",
        "- Pclass : Ticket class. 1=1st, 2=2nd, 3=3rd\n",
        "- Name\n",
        "- Sex\n",
        "- Age\n",
        "- SibSp : # of siblings/spouses aboard the Titanic\n",
        "- Parch : # of parents/children aboard the Titanic\n",
        "- Ticket: Ticket number\n",
        "- Fare : Passenger fare\n",
        "- Cabin : Cabin number\n",
        "- Embarked : Port of Embarkation. C=Cherbourg, Q=Queenstown, S=Southampton"
      ],
      "metadata": {
        "id": "oH1t_DFiRrO4"
      }
    },
    {
      "cell_type": "code",
      "source": [
        "train.shape"
      ],
      "metadata": {
        "id": "FxiCejPU72zo"
      },
      "execution_count": null,
      "outputs": []
    },
    {
      "cell_type": "code",
      "source": [
        "test.shape  # 'Survived' column 없음"
      ],
      "metadata": {
        "id": "hBDg1zxP74iQ"
      },
      "execution_count": null,
      "outputs": []
    },
    {
      "cell_type": "code",
      "source": [
        "train.info()"
      ],
      "metadata": {
        "id": "Ox1W-m1HK9X1"
      },
      "execution_count": null,
      "outputs": []
    },
    {
      "cell_type": "code",
      "source": [
        "test.info()"
      ],
      "metadata": {
        "id": "dSiVMzdDLSrH"
      },
      "execution_count": null,
      "outputs": []
    },
    {
      "cell_type": "code",
      "source": [
        "train.isnull().sum()"
      ],
      "metadata": {
        "id": "9UrhK1XKLaDz"
      },
      "execution_count": null,
      "outputs": []
    },
    {
      "cell_type": "code",
      "source": [
        "test.isnull().sum()"
      ],
      "metadata": {
        "id": "NF3nMwUNVhM-"
      },
      "execution_count": null,
      "outputs": []
    },
    {
      "cell_type": "markdown",
      "source": [
        "1-2. 결측치가 많은  columns\n",
        "- 'Age'\n",
        "- 'Cabin'"
      ],
      "metadata": {
        "id": "o8WJHbw3Wvqv"
      }
    },
    {
      "cell_type": "markdown",
      "source": [
        "### Data Visualization"
      ],
      "metadata": {
        "id": "PNKhn0kOVhJi"
      }
    },
    {
      "cell_type": "code",
      "source": [
        "# column에 따른 생존한 사람들의 수\n",
        "def survival(column):\n",
        "    survived = train[train['Survived'] == 1][column].value_counts()\n",
        "    dead = train[train['Survived'] == 0][column].value_counts()\n",
        "    df = pd.DataFrame([survived, dead])\n",
        "    df.index = ['Survived', 'Dead']\n",
        "    df.plot(kind='bar', figsize=(10, 6))"
      ],
      "metadata": {
        "id": "oTOtAVjRbIkQ"
      },
      "execution_count": null,
      "outputs": []
    },
    {
      "cell_type": "markdown",
      "source": [
        "Pclass : 1 > 2 > 3"
      ],
      "metadata": {
        "id": "BpPthb2qZz7S"
      }
    },
    {
      "cell_type": "code",
      "source": [
        "survival('Pclass')"
      ],
      "metadata": {
        "id": "a1d8W4VNY_il"
      },
      "execution_count": null,
      "outputs": []
    },
    {
      "cell_type": "markdown",
      "source": [
        "Sex : 남성 < 여성"
      ],
      "metadata": {
        "id": "vJ_pwfDEdVS8"
      }
    },
    {
      "cell_type": "code",
      "source": [
        "survival('Sex')"
      ],
      "metadata": {
        "id": "5vwx5F2WdVPz"
      },
      "execution_count": null,
      "outputs": []
    },
    {
      "cell_type": "markdown",
      "source": [
        "Age : 20대 미만 생존율 높음"
      ],
      "metadata": {
        "id": "uIzFgOJVdVMr"
      }
    },
    {
      "cell_type": "code",
      "source": [
        "# survival('Age')"
      ],
      "metadata": {
        "id": "2Q5VCG8bdc_j"
      },
      "execution_count": null,
      "outputs": []
    },
    {
      "cell_type": "code",
      "source": [
        "train['Age'].describe()"
      ],
      "metadata": {
        "id": "oQM3l7uT2606"
      },
      "execution_count": null,
      "outputs": []
    },
    {
      "cell_type": "code",
      "source": [
        "survived_age = train[train['Survived'] == 1]['Age'].value_counts()\n",
        "\n",
        "plt.figure(figsize=(20, 6))\n",
        "sns.boxplot(data=train, x='Age', y=survived_age)\n",
        "plt.title('Survival Rate by Age')\n",
        "plt.xlabel('Age')\n",
        "plt.ylabel('Survival Rate')\n",
        "plt.xticks(rotation=90)\n",
        "plt.show()"
      ],
      "metadata": {
        "id": "JmxtTNJf3U9B"
      },
      "execution_count": null,
      "outputs": []
    },
    {
      "cell_type": "code",
      "source": [
        "dead_age = train[train['Survived'] == 0]['Age'].value_counts()\n",
        "\n",
        "plt.figure(figsize=(20, 6))\n",
        "sns.boxplot(data=train, x='Age', y=dead_age)\n",
        "plt.title('Dead Rate by Age')\n",
        "plt.xlabel('Age')\n",
        "plt.ylabel('Dead Rate')\n",
        "plt.xticks(rotation=90)\n",
        "plt.show()"
      ],
      "metadata": {
        "id": "OiAmZdlA5IJ5"
      },
      "execution_count": null,
      "outputs": []
    },
    {
      "cell_type": "markdown",
      "source": [
        "SibSp : 많은 형제와 탑승할수록, 배우자와 탑승할수록 생존율 높음"
      ],
      "metadata": {
        "id": "ZlhLkT85dVKR"
      }
    },
    {
      "cell_type": "code",
      "source": [
        "survival('SibSp')"
      ],
      "metadata": {
        "id": "2kxK83grdhIo"
      },
      "execution_count": null,
      "outputs": []
    },
    {
      "cell_type": "markdown",
      "source": [
        "Parch : ??"
      ],
      "metadata": {
        "id": "GBHF7h34dicA"
      }
    },
    {
      "cell_type": "code",
      "source": [
        "survival('Parch')"
      ],
      "metadata": {
        "id": "QogSm_bKdhFS"
      },
      "execution_count": null,
      "outputs": []
    },
    {
      "cell_type": "markdown",
      "source": [
        "Fare : ??"
      ],
      "metadata": {
        "id": "AqXoWcf-dlxU"
      }
    },
    {
      "cell_type": "code",
      "source": [
        "# survival('Fare')"
      ],
      "metadata": {
        "id": "CPPH8ezedUBe"
      },
      "execution_count": null,
      "outputs": []
    },
    {
      "cell_type": "code",
      "source": [
        "train['Fare'].describe()"
      ],
      "metadata": {
        "id": "-R-OwlFI592I"
      },
      "execution_count": null,
      "outputs": []
    },
    {
      "cell_type": "code",
      "source": [
        "survived_fare = train[train['Survived'] == 1]['Fare'].value_counts()\n",
        "\n",
        "plt.figure(figsize=(20, 6))\n",
        "sns.scatterplot(data=train, x='Fare', y=survived_fare)\n",
        "plt.title('Survival Rate by Fare')\n",
        "plt.xlabel('Fare')\n",
        "plt.ylabel('Survival Rate')\n",
        "plt.xticks(rotation=90)\n",
        "plt.show()"
      ],
      "metadata": {
        "id": "gTFrf0Me7y2F"
      },
      "execution_count": null,
      "outputs": []
    },
    {
      "cell_type": "code",
      "source": [
        "dead_fare = train[train['Survived'] == 1]['Fare'].value_counts()\n",
        "\n",
        "plt.figure(figsize=(20, 6))\n",
        "sns.scatterplot(data=train, x='Fare', y=dead_fare)\n",
        "plt.title('Dead Rate by Fare')\n",
        "plt.xlabel('Fare')\n",
        "plt.ylabel('Dead Rate')\n",
        "plt.xticks(rotation=90)\n",
        "plt.show()"
      ],
      "metadata": {
        "id": "703sI0KV8I1Y"
      },
      "execution_count": null,
      "outputs": []
    },
    {
      "cell_type": "markdown",
      "source": [
        "Cabin : ??"
      ],
      "metadata": {
        "id": "k0CJ5p4UdrP6"
      }
    },
    {
      "cell_type": "code",
      "source": [
        "# survival('Cabin')"
      ],
      "metadata": {
        "id": "4LYAZQ_adtNM"
      },
      "execution_count": null,
      "outputs": []
    },
    {
      "cell_type": "code",
      "source": [],
      "metadata": {
        "id": "ht0JGzc8CdkN"
      },
      "execution_count": null,
      "outputs": []
    },
    {
      "cell_type": "code",
      "source": [],
      "metadata": {
        "id": "mfjUXFL2CdvD"
      },
      "execution_count": null,
      "outputs": []
    },
    {
      "cell_type": "markdown",
      "source": [
        "Embarked : C > Q > S"
      ],
      "metadata": {
        "id": "qUl57DkKdtxL"
      }
    },
    {
      "cell_type": "code",
      "source": [
        "survival('Embarked')"
      ],
      "metadata": {
        "id": "HjDHsk_5dv_n"
      },
      "execution_count": null,
      "outputs": []
    },
    {
      "cell_type": "markdown",
      "source": [
        "## 2. Data Preprocessing"
      ],
      "metadata": {
        "id": "YjXkHxcTVhG_"
      }
    },
    {
      "cell_type": "markdown",
      "source": [
        "2-1. 불필요한 columns 제거"
      ],
      "metadata": {
        "id": "OPK7eqSCVhEY"
      }
    },
    {
      "cell_type": "code",
      "source": [
        "# 'PassengerId', 'Name', 'Ticket' 제거\n",
        "train.drop(['PassengerId', 'Name', 'Ticket'], axis=1, inplace=True)\n",
        "test.drop(['PassengerId', 'Name', 'Ticket'], axis=1, inplace=True)"
      ],
      "metadata": {
        "id": "NoPUFll-mQhz"
      },
      "execution_count": null,
      "outputs": []
    },
    {
      "cell_type": "code",
      "source": [
        "print(f'train_columns:\\n{train.columns}\\n')\n",
        "print(f'test_columns:\\n{test.columns}')"
      ],
      "metadata": {
        "id": "nJmIp-ChmwD6"
      },
      "execution_count": null,
      "outputs": []
    },
    {
      "cell_type": "markdown",
      "source": [
        "2-2. 범주형 데이터 -> 수치형 데이터\n",
        "- Sex : 0=female, 1:male\n",
        "- Cabin : ?\n",
        "- Embarked : ?"
      ],
      "metadata": {
        "id": "QsUnCyalVhBv"
      }
    },
    {
      "cell_type": "markdown",
      "source": [
        "2-3. 결측치 채우기\n",
        "- Age : ?\n",
        "- Cabin : ?"
      ],
      "metadata": {
        "id": "6pEINV5jVg-W"
      }
    },
    {
      "cell_type": "markdown",
      "source": [
        "2-4. Data Scaling"
      ],
      "metadata": {
        "id": "BqrllFQeVgqz"
      }
    },
    {
      "cell_type": "markdown",
      "source": [
        "## 3. Modeling"
      ],
      "metadata": {
        "id": "6V7P1LBZpJwY"
      }
    },
    {
      "cell_type": "code",
      "source": [
        "target = train['Survived']\n",
        "train_data = train.drop('Survived', axis=1)"
      ],
      "metadata": {
        "id": "ZV2djBwLzwcP"
      },
      "execution_count": null,
      "outputs": []
    },
    {
      "cell_type": "markdown",
      "source": [
        "- k-fold cross validation\n",
        "- Ensemble"
      ],
      "metadata": {
        "id": "-gLvdd_1dZ5b"
      }
    },
    {
      "cell_type": "markdown",
      "source": [
        "## 4. Submission"
      ],
      "metadata": {
        "id": "ic7vk0vKqHfX"
      }
    }
  ]
}