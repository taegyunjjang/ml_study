{
  "nbformat": 4,
  "nbformat_minor": 0,
  "metadata": {
    "colab": {
      "provenance": [],
      "authorship_tag": "ABX9TyOnRksqk8v0RcreYxJEdrGW",
      "include_colab_link": true
    },
    "kernelspec": {
      "name": "python3",
      "display_name": "Python 3"
    },
    "language_info": {
      "name": "python"
    }
  },
  "cells": [
    {
      "cell_type": "markdown",
      "metadata": {
        "id": "view-in-github",
        "colab_type": "text"
      },
      "source": [
        "<a href=\"https://colab.research.google.com/github/taegyunjjang/ml_study/blob/main/5_Decision_Tree.ipynb\" target=\"_parent\"><img src=\"https://colab.research.google.com/assets/colab-badge.svg\" alt=\"Open In Colab\"/></a>"
      ]
    },
    {
      "cell_type": "code",
      "execution_count": 1,
      "metadata": {
        "id": "VVEHe_fySLkB",
        "colab": {
          "base_uri": "https://localhost:8080/"
        },
        "outputId": "f1da1f6d-0413-4da2-8a73-bbccd67c7082"
      },
      "outputs": [
        {
          "output_type": "execute_result",
          "data": {
            "text/plain": [
              "0"
            ]
          },
          "metadata": {},
          "execution_count": 1
        }
      ],
      "source": [
        "from sklearn.datasets import load_iris\n",
        "from sklearn.tree import DecisionTreeClassifier\n",
        "from sklearn.tree import export_graphviz  # 결정 트리 시각화\n",
        "from subprocess import check_call\n",
        "\n",
        "iris = load_iris()\n",
        "x = iris.data[:, 2:] # 꽃잎의 길이, 너비\n",
        "y = iris.target\n",
        "\n",
        "# decision tree 모형 인스턴스 생성 및 하이퍼파라미터(depth) = 3\n",
        "tree_model = DecisionTreeClassifier(max_depth=3)\n",
        "tree_model.fit(x, y)\n",
        "\n",
        "export_graphviz(\n",
        "    tree_model, # 학습한 모형\n",
        "    out_file = './iris_tree_model.dot', # .dot 파일 저장 위치\n",
        "    feature_names = iris.feature_names[2:], # 사용한 변수 이름\n",
        "    class_names = iris.target_names, # 예측할 타겟 클래스 이름\n",
        "    rounded=True, # 사각형 끝을 둥글게\n",
        "    filled=True # 사각형 안 색깔 채우기\n",
        ")\n",
        "\n",
        "# 예측한 모형 png로 바꿔서, 시각화 하기\n",
        "check_call(['dot', '-Tpng', 'iris_tree_model.dot', '-o', 'OutputFile.png'])"
      ]
    },
    {
      "cell_type": "code",
      "source": [
        "# decision tree 클래스 확률 추정\n",
        "\n",
        "# 길이:3.1, 너비:2\n",
        "tree_model.predict([[3.1, 2]])"
      ],
      "metadata": {
        "colab": {
          "base_uri": "https://localhost:8080/"
        },
        "id": "0SJZBgxG0go8",
        "outputId": "b2c07578-8da2-4e66-a026-dc23fbfe7cf6"
      },
      "execution_count": 2,
      "outputs": [
        {
          "output_type": "execute_result",
          "data": {
            "text/plain": [
              "array([2])"
            ]
          },
          "metadata": {},
          "execution_count": 2
        }
      ]
    },
    {
      "cell_type": "code",
      "source": [
        "tree_model.predict_proba([[3.1, 2]])"
      ],
      "metadata": {
        "colab": {
          "base_uri": "https://localhost:8080/"
        },
        "id": "ZB5jt6cd0vHS",
        "outputId": "74f5ae5a-3ea3-4631-a815-a116f983eba8"
      },
      "execution_count": 3,
      "outputs": [
        {
          "output_type": "execute_result",
          "data": {
            "text/plain": [
              "array([[0.        , 0.33333333, 0.66666667]])"
            ]
          },
          "metadata": {},
          "execution_count": 3
        }
      ]
    },
    {
      "cell_type": "code",
      "source": [
        "iris.target_names"
      ],
      "metadata": {
        "id": "lyauVpJk1eYM",
        "colab": {
          "base_uri": "https://localhost:8080/"
        },
        "outputId": "095dfdd2-f6b1-4249-a8eb-68b57ebd7908"
      },
      "execution_count": 4,
      "outputs": [
        {
          "output_type": "execute_result",
          "data": {
            "text/plain": [
              "array(['setosa', 'versicolor', 'virginica'], dtype='<U10')"
            ]
          },
          "metadata": {},
          "execution_count": 4
        }
      ]
    },
    {
      "cell_type": "code",
      "source": [
        "from sklearn.tree import DecisionTreeRegressor\n",
        "\n",
        "tree_model = DecisionTreeRegressor(max_depth=3)\n",
        "tree_model.fit(x, y)\n",
        "\n",
        "export_graphviz(\n",
        "    tree_model,\n",
        "    out_file='./iris_tree_model_reg.dot',\n",
        "    feature_names=iris.feature_names[2:],\n",
        "    rounded=True,\n",
        "    filled=True\n",
        ")\n",
        "\n",
        "# 예측한 모형 png로 바꿔서, 시각화 하기\n",
        "check_call(['dot', '-Tpng', 'iris_tree_model_reg.dot', '-o', 'OutputFile_reg.png'])"
      ],
      "metadata": {
        "colab": {
          "base_uri": "https://localhost:8080/"
        },
        "id": "tPbxu22OvMN0",
        "outputId": "99a7b8a2-c29d-4bdc-adc3-cd46585e516f"
      },
      "execution_count": 5,
      "outputs": [
        {
          "output_type": "execute_result",
          "data": {
            "text/plain": [
              "0"
            ]
          },
          "metadata": {},
          "execution_count": 5
        }
      ]
    }
  ]
}